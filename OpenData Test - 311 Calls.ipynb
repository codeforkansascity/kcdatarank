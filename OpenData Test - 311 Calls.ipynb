{
 "cells": [
  {
   "cell_type": "markdown",
   "metadata": {},
   "source": [
    "# Env Setup"
   ]
  },
  {
   "cell_type": "markdown",
   "metadata": {},
   "source": [
    "Import libraries"
   ]
  },
  {
   "cell_type": "code",
   "execution_count": 1,
   "metadata": {},
   "outputs": [],
   "source": [
    "import pandas as pd\n",
    "import json\n",
    "import scipy\n",
    "import numpy as np\n",
    "import matplotlib.pyplot as plt\n",
    "%matplotlib inline\n",
    "from scipy.cluster.vq import kmeans2, whiten"
   ]
  },
  {
   "cell_type": "markdown",
   "metadata": {},
   "source": [
    "Input from open data "
   ]
  },
  {
   "cell_type": "code",
   "execution_count": 10,
   "metadata": {},
   "outputs": [
    {
     "name": "stdout",
     "output_type": "stream",
     "text": [
      "      CASE ID SOURCE            DEPARTMENT                  WORK GROUP  \\\n",
      "0  2017159125  EMAIL  City Managers Office  City Managers Office-KCPD-   \n",
      "1  2017158575    WEB  City Managers Office  City Managers Office-KCPD-   \n",
      "2  2017157533  PHONE  City Managers Office  City Managers Office-KCPD-   \n",
      "3  2017157669  PHONE  City Managers Office  City Managers Office-KCPD-   \n",
      "4  2017156973    WEB  City Managers Office  City Managers Office-KCPD-   \n",
      "\n",
      "                         REQUEST TYPE       CATEGORY    TYPE         DETAIL  \\\n",
      "0  Public Safety-Police-Homeless camp  Public Safety  Police  Homeless Camp   \n",
      "1  Public Safety-Police-Homeless camp  Public Safety  Police  Homeless Camp   \n",
      "2  Public Safety-Police-Homeless camp  Public Safety  Police  Homeless Camp   \n",
      "3          Public Safety-Police-Other  Public Safety  Police          Other   \n",
      "4  Public Safety-Police-Homeless camp  Public Safety  Police  Homeless Camp   \n",
      "\n",
      "  CREATION DATE CREATION TIME            ...             ZIP CODE  \\\n",
      "0    12/26/2017      11:45 AM            ...                64112   \n",
      "1    12/22/2017      07:17 AM            ...                64108   \n",
      "2    12/19/2017      03:51 PM            ...                64132   \n",
      "3    12/20/2017      07:42 AM            ...                64137   \n",
      "4    12/18/2017      03:39 PM            ...                64109   \n",
      "\n",
      "         NEIGHBORHOOD   COUNTY COUNCIL DISTRICT POLICE DISTRICT  PARCEL ID NO  \\\n",
      "0  Country Club Plaza  Jackson                4         Central        139680   \n",
      "1                 NaN  Jackson                4         Central        128929   \n",
      "2        East Meyer 7  Jackson                5           Metro        115338   \n",
      "3       Hickman Mills  Jackson                6           South         74357   \n",
      "4         Squier Park  Jackson                3         Central        134722   \n",
      "\n",
      "    LATITUDE  LONGITUDE                                           CASE URL  \\\n",
      "0  39.042984 -94.590899  http://webfusion.kcmo.org/coldfusionapps/Actio...   \n",
      "1  39.075416 -94.606640  http://webfusion.kcmo.org/coldfusionapps/Actio...   \n",
      "2  38.992026 -94.563740  http://webfusion.kcmo.org/coldfusionapps/Actio...   \n",
      "3  38.911625 -94.530860  http://webfusion.kcmo.org/coldfusionapps/Actio...   \n",
      "4  39.062539 -94.569095  http://webfusion.kcmo.org/coldfusionapps/Actio...   \n",
      "\n",
      "  30-60-90 Days Open Window  \n",
      "0                       NaN  \n",
      "1                       NaN  \n",
      "2                       NaN  \n",
      "3                       NaN  \n",
      "4                       NaN  \n",
      "\n",
      "[5 rows x 30 columns]\n"
     ]
    },
    {
     "data": {
      "text/plain": [
       "['CASE ID',\n",
       " 'SOURCE',\n",
       " 'DEPARTMENT',\n",
       " 'WORK GROUP',\n",
       " 'REQUEST TYPE',\n",
       " 'CATEGORY',\n",
       " 'TYPE',\n",
       " 'DETAIL',\n",
       " 'CREATION DATE',\n",
       " 'CREATION TIME',\n",
       " 'CREATION MONTH',\n",
       " 'CREATION YEAR',\n",
       " 'STATUS',\n",
       " 'EXCEEDED EST TIMEFRAME',\n",
       " 'CLOSED DATE',\n",
       " 'CLOSED MONTH',\n",
       " 'CLOSED YEAR',\n",
       " 'DAYS TO CLOSE',\n",
       " 'STREET ADDRESS',\n",
       " 'ADDRESS WITH GEOCODE',\n",
       " 'ZIP CODE',\n",
       " 'NEIGHBORHOOD',\n",
       " 'COUNTY',\n",
       " 'COUNCIL DISTRICT',\n",
       " 'POLICE DISTRICT',\n",
       " 'PARCEL ID NO',\n",
       " 'LATITUDE',\n",
       " 'LONGITUDE',\n",
       " 'CASE URL',\n",
       " '30-60-90 Days Open Window']"
      ]
     },
     "execution_count": 10,
     "metadata": {},
     "output_type": "execute_result"
    }
   ],
   "source": [
    "data = pd.read_csv(\"311pol.csv\")\n",
    "print(data.head())\n",
    "list(data.columns.values)"
   ]
  },
  {
   "cell_type": "markdown",
   "metadata": {},
   "source": [
    "# Slice dataframe to prep for analysis"
   ]
  },
  {
   "cell_type": "markdown",
   "metadata": {
    "collapsed": true
   },
   "source": [
    "Slice (Case_ID, Council District, Police District)"
   ]
  },
  {
   "cell_type": "code",
   "execution_count": 3,
   "metadata": {},
   "outputs": [
    {
     "name": "stdout",
     "output_type": "stream",
     "text": [
      "      CASE ID  COUNCIL DISTRICT POLICE DISTRICT   LATITUDE  LONGITUDE\n",
      "0  2017159125                 4         Central  39.042984 -94.590899\n",
      "1  2017158575                 4         Central  39.075416 -94.606640\n",
      "2  2017157533                 5           Metro  38.992026 -94.563740\n",
      "3  2017157669                 6           South  38.911625 -94.530860\n",
      "4  2017156973                 3         Central  39.062539 -94.569095\n"
     ]
    }
   ],
   "source": [
    "dslice = data[['CASE ID','COUNCIL DISTRICT','POLICE DISTRICT','LATITUDE','LONGITUDE']]\n",
    "print(dslice.head())"
   ]
  },
  {
   "cell_type": "markdown",
   "metadata": {},
   "source": [
    "# Analysis"
   ]
  },
  {
   "cell_type": "markdown",
   "metadata": {},
   "source": [
    "K-Means Clustering for police complaints"
   ]
  },
  {
   "cell_type": "code",
   "execution_count": 4,
   "metadata": {},
   "outputs": [
    {
     "data": {
      "image/png": "[encoded data removed]",
      "text/plain": [
       "<Figure size 432x288 with 1 Axes>"
      ]
     },
     "metadata": {},
     "output_type": "display_data"
    }
   ],
   "source": [
    "latlongdf = data[['LATITUDE','LONGITUDE']]\n",
    "latlong = latlongdf.values\n",
    "x, y = kmeans2(whiten(latlong), 3, iter = 20)  \n",
    "plt.scatter(latlong[:,0], latlong[:,1], c=y);\n",
    "plt.show()"
   ]
  },
  {
   "cell_type": "markdown",
   "metadata": {},
   "source": [
    "Police complaints by council data"
   ]
  },
  {
   "cell_type": "code",
   "execution_count": 7,
   "metadata": {},
   "outputs": [
    {
     "name": "stdout",
     "output_type": "stream",
     "text": [
      "COUNCIL DISTRICT\n",
      "1     13\n",
      "2      5\n",
      "3    115\n",
      "4    120\n",
      "5     17\n",
      "6     26\n",
      "Name: CASE ID, dtype: int64\n"
     ]
    }
   ],
   "source": [
    "by_precinct = data.groupby('COUNCIL DISTRICT')['CASE ID'].nunique()\n",
    "print(by_precinct)"
   ]
  },
  {
   "cell_type": "code",
   "execution_count": null,
   "metadata": {},
   "outputs": [],
   "source": []
  },
  {
   "cell_type": "code",
   "execution_count": null,
   "metadata": {},
   "outputs": [],
   "source": []
  }
 ],
 "metadata": {
  "kernelspec": {
   "display_name": "Python 3",
   "language": "python",
   "name": "python3"
  },
  "language_info": {
   "codemirror_mode": {
    "name": "ipython",
    "version": 3
   },
   "file_extension": ".py",
   "mimetype": "text/x-python",
   "name": "python",
   "nbconvert_exporter": "python",
   "pygments_lexer": "ipython3",
   "version": "3.5.2"
  }
 },
 "nbformat": 4,
 "nbformat_minor": 1
}
